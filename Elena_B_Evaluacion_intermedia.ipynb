{
 "cells": [
  {
   "cell_type": "markdown",
   "metadata": {},
   "source": [
    "#Parte 1: Strings"
   ]
  },
  {
   "cell_type": "code",
   "execution_count": 1,
   "metadata": {},
   "outputs": [
    {
     "name": "stdout",
     "output_type": "stream",
     "text": [
      "p\n",
      "Cuántas veces se encuentra mi p en la frase: 3\n"
     ]
    }
   ],
   "source": [
    "#1.  Dada una cadena de texto, contar cuántas veces aparece una letra específica en ella. Usa un input para que el usuario elija la letra a buscar.\n",
    "\n",
    "cadena = \"Python es un lenguaje de programación muy popular\"\n",
    "\n",
    "letra = input(\"selecciona 1 letra\")\n",
    "\n",
    "print(letra)\n",
    "\n",
    "cadena_final= cadena.count(letra)\n",
    "\n",
    "print(\"Cuántas veces se encuentra mi\" ,letra, \"en la frase:\", cadena_final)\n"
   ]
  },
  {
   "cell_type": "code",
   "execution_count": 6,
   "metadata": {},
   "outputs": [
    {
     "name": "stdout",
     "output_type": "stream",
     "text": [
      "Python es ojo. Python es fácil de aprender.\n"
     ]
    }
   ],
   "source": [
    "# 2.Escribe un programa que tome la siguiente cadena de texto y reemplace una palabra específica por otra palabra. La palabra a reemplazar y reemplazada deben ser elegidas por el usuario.\n",
    "cadena = \"Python es genial. Python es fácil de aprender.\"\n",
    "\n",
    "palabra_usuario = input(\"elige una palabra a reemplazar\")\n",
    "\n",
    "palabra_reemplazar = palabra_usuario\n",
    "\n",
    "frase_final = cadena.replace(\"genial\", palabra_usuario)\n",
    "\n",
    "print(frase_final)\n",
    "\n"
   ]
  },
  {
   "cell_type": "code",
   "execution_count": 8,
   "metadata": {},
   "outputs": [
    {
     "name": "stdout",
     "output_type": "stream",
     "text": [
      "Esto es una oración de ejemplo\n",
      "Si las uno nuevamente: Esto es una oración de ejemplo\n"
     ]
    }
   ],
   "source": [
    "#3. Toma la siguiente oración y divídela en una lista de palabras. Luego, únelas nuevamente en una sola cadena de texto.\n",
    "oracion = \"Esto es una oración de ejemplo\"\n",
    "oracion_lista = \"\".join(list(oracion))\n",
    "print(oracion_lista)\n",
    "\n",
    "print(\"Si las uno nuevamente:\",\"\".join(oracion_lista))"
   ]
  },
  {
   "cell_type": "code",
   "execution_count": 12,
   "metadata": {},
   "outputs": [
    {
     "name": "stdout",
     "output_type": "stream",
     "text": [
      "Esta es una cadena con cinco palabras\n",
      "37\n"
     ]
    }
   ],
   "source": [
    "#4.Desarrolla un programa que cuente cuántas palabras hay en la siguiente frase.\n",
    "cadena = \"Esta es una cadena con cinco palabras\"\n",
    "cadena_list = \"\".join(list(cadena))\n",
    "print(cadena_list)\n",
    "print(len(cadena_list))"
   ]
  },
  {
   "cell_type": "code",
   "execution_count": 33,
   "metadata": {
    "tags": []
   },
   "outputs": [
    {
     "name": "stdout",
     "output_type": "stream",
     "text": [
      "buenos dias Hola\n"
     ]
    }
   ],
   "source": [
    "# 5.Escribe un programa que invierta una cadena de texto dada por un usuario. Mira el siguiente ejemplo para entender lo que se pide:\n",
    " # input  \"Hola buenos dias\"\n",
    "\n",
    " # output \"dias buenos Hola\"\n",
    " \n",
    "cadena1 = (\"Hola buenos dias\")\n",
    "\n",
    "cadena2 = cadena1.replace (\"Hola buenos dias\", \"buenos dias Hola\")\n",
    "\n",
    "print(cadena2)\n",
    "\n",
    "\n"
   ]
  },
  {
   "cell_type": "code",
   "execution_count": 38,
   "metadata": {},
   "outputs": [
    {
     "name": "stdout",
     "output_type": "stream",
     "text": [
      "sol\n",
      "-1\n"
     ]
    }
   ],
   "source": [
    "# 6 Crea un programa que busque una palabra específica(elegida por la usuaria) en una cadena de texto e indique su posición.\n",
    "frase = \"Hoy hace sol\"\n",
    "\n",
    "palabra_escogida= input (\"Escoge una palabra de la frase\")\n",
    "print (palabra_escogida)\n",
    "\n",
    "frase_final = frase.find(palabra_escogida, 1,5)\n",
    "\n",
    "print(frase_final)\n"
   ]
  },
  {
   "cell_type": "markdown",
   "metadata": {},
   "source": [
    "Parte 2: Listas"
   ]
  },
  {
   "cell_type": "code",
   "execution_count": 73,
   "metadata": {},
   "outputs": [
    {
     "name": "stdout",
     "output_type": "stream",
     "text": [
      "pera\n",
      "['manzana', 'banana', 'uva', 'kiwi']\n",
      "['manzana', 'durazno', 'banana', 'uva', 'kiwi']\n",
      "['manzana', 'durazno', 'banana', 'uva', 'kiwi', 'kaki']\n",
      "banana\n"
     ]
    }
   ],
   "source": [
    "# 1. Dada la siguiente lista: frutas = ['manzana', 'pera', 'banana', 'uva', 'kiwi'], realiza lo siguiente:\n",
    "#a) Reemplaza el segundo elemento con 'durazno'.\n",
    "\n",
    "frutas =  ['manzana', 'pera', 'banana', 'uva', 'kiwi']\n",
    "print (frutas.pop(1))\n",
    "print (frutas)\n",
    "\n",
    "frutasok = frutas\n",
    "frutasok.insert(1,\"durazno\")\n",
    "print(frutasok)\n",
    "\n",
    "#b) Agrega 'naranja' al final de la lista.\n",
    "\n",
    "frutasok.append(\"kaki\")\n",
    "print(frutasok)\n",
    "\n",
    "#c) Extrae y muestra por pantalla el tercer elemento de la lista.\n",
    "\n",
    "frutas_extrae = frutasok.pop(2)\n",
    "\n",
    "print (frutas_extrae)"
   ]
  },
  {
   "cell_type": "code",
   "execution_count": 83,
   "metadata": {},
   "outputs": [
    {
     "name": "stdout",
     "output_type": "stream",
     "text": [
      "[10, 25, 15, 30, 20]\n",
      "[10, 25, 15, 30, 20, 35]\n",
      "[10, 15, 20, 25, 30, 35]\n"
     ]
    }
   ],
   "source": [
    "# 2. Crea una lista llamada numeros que contenga los siguientes valores: 10, 25, 15, 30, 20.\n",
    "\n",
    "numeros = [10,25,15,30,20]\n",
    "\n",
    "print(numeros)\n",
    "\n",
    "#3. Agrega el valor 35 al incio de la lista numeros\n",
    "\n",
    "numeros_add = numeros.append(35)\n",
    "numeros_add = numeros\n",
    "print(numeros_add)\n",
    "\n",
    "#4. Ordena la lista numeros en orden ascendente.\n",
    "\n",
    "numeros_add.sort()\n",
    "numeros_add_sort = numeros_add\n",
    "print(numeros_add_sort)\n"
   ]
  },
  {
   "cell_type": "code",
   "execution_count": 85,
   "metadata": {},
   "outputs": [
    {
     "name": "stdout",
     "output_type": "stream",
     "text": [
      "[10, 15, 20, 25, 30, 35, 45, 22, 19, 38, 29]\n"
     ]
    }
   ],
   "source": [
    "#5. Dada la siguiente lista numeros2 = [45, 22, 19, 38, 29]. Crea una nueva lista llamada numeros3 donde tengamos \n",
    "# la unión de los todos los elementos de las dos listas \n",
    "# (numeros y numeros2) de tal forma que el resultado final sea:\n",
    "numeros3 = [10, 25, 15, 30, 20, 45, 22, 19, 38, 29]\n",
    "numero2 = [45, 22, 19, 38, 29]\n",
    "numero1 = numeros_add_sort\n",
    "print (numero1 + numero2)\n"
   ]
  },
  {
   "cell_type": "code",
   "execution_count": 88,
   "metadata": {},
   "outputs": [
    {
     "name": "stdout",
     "output_type": "stream",
     "text": [
      "[10, 25, 15, 45, 22, 19, 38]\n"
     ]
    }
   ],
   "source": [
    "#7.Elimina el último elemento de la lista numeros3.\n",
    "\n",
    "numeros3.pop(-1)\n",
    "print(numeros3)"
   ]
  },
  {
   "cell_type": "code",
   "execution_count": 87,
   "metadata": {},
   "outputs": [
    {
     "name": "stdout",
     "output_type": "stream",
     "text": [
      "[10, 25, 15, 45, 22, 19, 38, 29]\n"
     ]
    }
   ],
   "source": [
    "#6. Elimina el número 30 de la lista numeros3\n",
    "\n",
    "numeros3.pop(3)\n",
    "print(numeros3)"
   ]
  },
  {
   "cell_type": "markdown",
   "metadata": {},
   "source": [
    "# OJO: he realizado el ejercicio 7 antes que el 6 por eso se me ha sobreescrito la lista y no aparece el 30 en el ej6"
   ]
  },
  {
   "cell_type": "markdown",
   "metadata": {},
   "source": [
    "Parte 3: Tuplas"
   ]
  },
  {
   "cell_type": "code",
   "execution_count": 96,
   "metadata": {},
   "outputs": [
    {
     "name": "stdout",
     "output_type": "stream",
     "text": [
      "('rojo', 'verde', 'azul', 'amarillo', 'morado')\n",
      "1\n",
      "1\n",
      "['rojo', 'verde', 'azul', 'amarillo', 'morado', 'morado']\n"
     ]
    }
   ],
   "source": [
    "#1.Crea una tupla llamada colores que contenga los siguientes valores: 'rojo', 'verde', 'azul', 'amarillo', 'morado'.\n",
    "colores = ('rojo', 'verde', 'azul', 'amarillo', 'morado')\n",
    "print(colores)\n",
    "\n",
    "#Encuentra el índice de 'verde' en la tupla colores.\n",
    "colores2 = colores.index('verde')\n",
    "print(colores2)\n",
    "\n",
    "#¿Cuántas veces aparece 'azul' en la tupla colores?\n",
    "colores.count(\"azul\")\n",
    "colores_count = colores.count(\"azul\")\n",
    "print(colores_count)\n",
    "\n",
    "#Añade el color \"morado\" a la tupla colores. ¿Qué ha pasado? ¿Por qué? Como podríamos añadir el elemento \"morado\".\n",
    "colores_list = list(colores)\n",
    "colores_list.append(\"morado\")\n",
    "print(colores_list)"
   ]
  },
  {
   "cell_type": "markdown",
   "metadata": {},
   "source": [
    "Parte 4: Diccionarios"
   ]
  },
  {
   "cell_type": "code",
   "execution_count": 134,
   "metadata": {},
   "outputs": [
    {
     "name": "stdout",
     "output_type": "stream",
     "text": [
      "{'manzana': 2, 'banana': 3, 'uva': 5, 'pera': 4}\n",
      "Esta es una lista de frutas ['manzana', 'banana', 'uva', 'pera']\n",
      "Esta es una lista de nº de frutas [2, 3, 5, 4]\n",
      "{'banana': 3, 'uva': 5, 'pera': 4}\n",
      "Se encuentra la clave manzana en mi lista no existe\n",
      "La nueva fruta añadida es kiwi, por lo tanto: {'kiwi': [6]}\n",
      "Lista de frutas inicial {'manzana': 2, 'banana': 3, 'uva': 5, 'pera': 4}\n",
      "La lista actualizada de frutas es: {'manzana': 2, 'banana': 3, 'uva': 8, 'pera': 4}\n"
     ]
    }
   ],
   "source": [
    "#1. Crea un diccionario llamado frutas con las siguientes parejas clave-valor:\n",
    "#'manzana': 2\n",
    "#'banana': 3\n",
    "#'uva': 5\n",
    "#'pera': 4\n",
    "\n",
    "dit_frutas = {'manzana': 2,'banana': 3,'uva': 5,'pera': 4}\n",
    "dit_frutas2 = dit_frutas.copy()\n",
    "print(dit_frutas)\n",
    "#2Saca una lista de todas las frutas en el diccionario.\n",
    "\n",
    "print(\"Esta es una lista de frutas\", list(dit_frutas.keys()))\n",
    "\n",
    "#3Saca una lista de todas las cantidades en el diccionario.\n",
    "print(\"Esta es una lista de nº de frutas\", list(dit_frutas.values()))\n",
    "\n",
    "#4¿Qué cantidad de 'manzana' tenemos?. Si la clave 'manzana' no está presente, devuelve un mensaje diciendo \"No existe esa clave\"\n",
    "dit_frutas_clave = dit_frutas2.pop('manzana')\n",
    "dit_frutas_clave = dit_frutas2\n",
    "print(dit_frutas_clave)\n",
    "print(\"Se encuentra la clave manzana en mi lista\", dit_frutas_clave.setdefault(\"manzana\", \"no existe\"))\n",
    "\n",
    "#5Agrega un nuevo par de clave-valor al diccionario frutas: 'kiwi' con una cantidad de 6.\n",
    "\n",
    "kiwi= [\"kiwi\"]\n",
    "valor = [6]\n",
    "dit_frutas2 = dit_frutas2\n",
    "\n",
    "print(\"La nueva fruta añadida es kiwi, por lo tanto:\",dit_frutas2.fromkeys(kiwi, valor))\n",
    "\n",
    "#6Cambia la cantidad de 'uva' a 8.\n",
    "print(\"Lista de frutas inicial\", dit_frutas)\n",
    "dit_frutas_cambop = {'manzana': 2, 'banana': 3, 'uva': 8, 'pera': 4}\n",
    "dit_frutas.update(dit_frutas_cambop)\n",
    "dit_frutas_nuevo = dit_frutas\n",
    "\n",
    "print(\"La lista actualizada de frutas es:\", dit_frutas_nuevo)\n"
   ]
  },
  {
   "cell_type": "code",
   "execution_count": 140,
   "metadata": {},
   "outputs": [
    {
     "name": "stdout",
     "output_type": "stream",
     "text": [
      "{'manzana': 2, 'banana': 3, 'uva': 8, 'pera': 4}\n"
     ]
    }
   ],
   "source": [
    "#7Crea un segundo diccionario llamado frutas_nuevas con las siguientes parejas clave-valor:\n",
    "#'sandía': 7\n",
    "#'mango': 4\n",
    "\n",
    "frutas_nuevas = {'sandía': 7,'mango': 4}\n",
    "#8Combinar los dos diccionarios frutas_nuevas y frutas en uno nuevos llamado frutas_total.\n",
    "\n",
    "frutas_total={}\n",
    "\n",
    "print(dit_frutas_nuevo)"
   ]
  }
 ],
 "metadata": {
  "kernelspec": {
   "display_name": "base",
   "language": "python",
   "name": "python3"
  },
  "language_info": {
   "codemirror_mode": {
    "name": "ipython",
    "version": 3
   },
   "file_extension": ".py",
   "mimetype": "text/x-python",
   "name": "python",
   "nbconvert_exporter": "python",
   "pygments_lexer": "ipython3",
   "version": "3.9.7"
  }
 },
 "nbformat": 4,
 "nbformat_minor": 2
}
